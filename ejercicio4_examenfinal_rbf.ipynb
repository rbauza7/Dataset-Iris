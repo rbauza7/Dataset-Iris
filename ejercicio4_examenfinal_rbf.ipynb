{
  "nbformat": 4,
  "nbformat_minor": 0,
  "metadata": {
    "colab": {
      "provenance": [],
      "authorship_tag": "ABX9TyMLUvyyi/IZHCUoCQHQsDof",
      "include_colab_link": true
    },
    "kernelspec": {
      "name": "ir",
      "display_name": "R"
    },
    "language_info": {
      "name": "R"
    }
  },
  "cells": [
    {
      "cell_type": "markdown",
      "metadata": {
        "id": "view-in-github",
        "colab_type": "text"
      },
      "source": [
        "<a href=\"https://colab.research.google.com/github/rbauza7/Dataset-Iris/blob/main/ejercicio4_examenfinal_rbf.ipynb\" target=\"_parent\"><img src=\"https://colab.research.google.com/assets/colab-badge.svg\" alt=\"Open In Colab\"/></a>"
      ]
    },
    {
      "cell_type": "markdown",
      "source": [
        "Roberto Bauza Fermin CC 0962108650\n",
        "Ejercicio 4 EXAMEN FINAL DEL MÓDULO DE MINERIAS DE DATOS 22-12-24"
      ],
      "metadata": {
        "id": "l7EwYBS_SONV"
      }
    },
    {
      "cell_type": "markdown",
      "source": [
        "**Ejercicio 4.** ¿Qué estrategia de modelado emplearías para analizar un conjunto de datos sobre la calidad del agua y su potabilidad, con el objetivo de determinar si el agua es apta para el consumo humano? El conjunto de datos contiene mediciones y evaluaciones de diversos parámetros de calidad del agua, y la columna \"Potabilidad\" indica si el agua es potable o no. Utiliza las técnicas estudiadas en clase para evaluar el rendimiento de los modelos, analiza la importancia de las variables y realiza un preprocesamiento adecuado (manejo de valores perdidos, outliers, transformaciones y codificación de variables). Justifica tu elección del modelo (Arboles de decisión, Navie Bayes, Random Forest, SVM) basado en los resultados obtenidos (Matriz de confusión).\n",
        "Enlace de los datos:"
      ],
      "metadata": {
        "id": "yrTa2uP-JA1J"
      }
    },
    {
      "cell_type": "markdown",
      "source": [
        "![image.png](data:image/png;base64,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)"
      ],
      "metadata": {
        "id": "hBCFQ7B3SCjY"
      }
    },
    {
      "cell_type": "markdown",
      "source": [],
      "metadata": {
        "id": "rzZBOtmmSNFa"
      }
    },
    {
      "cell_type": "markdown",
      "source": [
        "La selección de un modelo adecuado para predecir la potabilidad del agua requiere un punto de vista estructurado que considere tanto las características del conjunto de datos como las fortalezas y limitaciones de los modelos de los que se dispongan. El primer paso es el preprocesamiento, donde se identifican y corrigen problemas como valores faltantes, outliers y escalas con dimensiones muy diferentes. Posteriormente, se evalúan diferentes algoritmos de clasificación, como árboles de decisión, Naive Bayes, Random Forest y SVM, cada uno con ventajas  dependiendo de la naturaleza de los datos. Por ejemplo, Random Forest es particularmente robusto frente a outliers y permite calcular la importancia de las variables, mientras que SVM es efectivo para datos con límites de decisión no lineales pero requiere escalado previo. La elección  debe justificarse mediante métricas de evaluación como la matriz de confusión y el F1-score, asegurando que el modelo seleccionado ofrezca un buen balance entre precisión, sensibilidad y especificidad. Este enfoque garantiza que la decisión esté basada tanto en el rendimiento técnico como en la capacidad del modelo para abordar las peculiaridades del problema planteado.Primero evaluemos los datos."
      ],
      "metadata": {
        "id": "larHhRlt2IvQ"
      }
    },
    {
      "cell_type": "markdown",
      "source": [
        "**Instalar R**"
      ],
      "metadata": {
        "id": "xbFBkSoy2o-n"
      }
    },
    {
      "cell_type": "code",
      "source": [
        "# Instalar R\n",
        "!apt-get install -y r-base\n",
        "# Instalar IRKernel\n",
        "!R -e \"install.packages('IRkernel'); IRkernel::installspec(user = FALSE)\"\n"
      ],
      "metadata": {
        "colab": {
          "base_uri": "https://localhost:8080/"
        },
        "id": "Fj1L6HN82ru4",
        "outputId": "9348bb80-cf95-489d-a0a8-4a968db9e56d"
      },
      "execution_count": null,
      "outputs": [
        {
          "output_type": "stream",
          "name": "stdout",
          "text": [
            "Reading package lists... Done\n",
            "Building dependency tree... Done\n",
            "Reading state information... Done\n",
            "r-base is already the newest version (4.4.2-1.2204.0).\n",
            "0 upgraded, 0 newly installed, 0 to remove and 49 not upgraded.\n",
            "\n",
            "R version 4.4.2 (2024-10-31) -- \"Pile of Leaves\"\n",
            "Copyright (C) 2024 The R Foundation for Statistical Computing\n",
            "Platform: x86_64-pc-linux-gnu\n",
            "\n",
            "R is free software and comes with ABSOLUTELY NO WARRANTY.\n",
            "You are welcome to redistribute it under certain conditions.\n",
            "Type 'license()' or 'licence()' for distribution details.\n",
            "\n",
            "  Natural language support but running in an English locale\n",
            "\n",
            "R is a collaborative project with many contributors.\n",
            "Type 'contributors()' for more information and\n",
            "'citation()' on how to cite R or R packages in publications.\n",
            "\n",
            "Type 'demo()' for some demos, 'help()' for on-line help, or\n",
            "'help.start()' for an HTML browser interface to help.\n",
            "Type 'q()' to quit R.\n",
            "\n",
            "> install.packages('IRkernel'); IRkernel::installspec(user = FALSE)\n",
            "Installing package into ‘/usr/local/lib/R/site-library’\n",
            "(as ‘lib’ is unspecified)\n",
            "trying URL 'https://cran.rstudio.com/src/contrib/IRkernel_1.3.2.tar.gz'\n",
            "Content type 'application/x-gzip' length 45172 bytes (44 KB)\n",
            "==================================================\n",
            "downloaded 44 KB\n",
            "\n",
            "* installing *source* package ‘IRkernel’ ...\n",
            "** package ‘IRkernel’ successfully unpacked and MD5 sums checked\n",
            "** using staged installation\n",
            "** R\n",
            "** inst\n",
            "** byte-compile and prepare package for lazy loading\n",
            "** help\n",
            "*** installing help indices\n",
            "** building package indices\n",
            "** testing if installed package can be loaded from temporary location\n",
            "** testing if installed package can be loaded from final location\n",
            "** testing if installed package keeps a record of temporary installation path\n",
            "* DONE (IRkernel)\n",
            "\n",
            "The downloaded source packages are in\n",
            "\t‘/tmp/Rtmp7cmYfA/downloaded_packages’\n",
            "\u001b[?25h> \n",
            "> \n",
            "\u001b[?25h"
          ]
        }
      ]
    },
    {
      "cell_type": "code",
      "source": [
        "# Instalar librerías necesarias\n",
        "install.packages(\"readr\")  # Para leer datos CSV\n",
        "install.packages(\"tidyverse\")  # Paquete para manipulación de datos\n",
        "\n",
        "# Cargar librerías\n",
        "library(readr)\n",
        "library(tidyverse)\n",
        "\n",
        "# Leer archivo desde GitHub\n",
        "url <- \"https://github.com/rbauza7/Ejercicio-4-Examen-final/raw/refs/heads/main/water_potability.csv\"\n",
        "water_data <- read_csv(url)\n",
        "\n",
        "# Visualizar las primeras filas\n",
        "head(water_data)\n"
      ],
      "metadata": {
        "colab": {
          "base_uri": "https://localhost:8080/",
          "height": 668
        },
        "id": "tWROHqmB3iiW",
        "outputId": "0b3be115-3bf5-4492-8c63-eae2141c33e5"
      },
      "execution_count": null,
      "outputs": [
        {
          "output_type": "stream",
          "name": "stderr",
          "text": [
            "Installing package into ‘/usr/local/lib/R/site-library’\n",
            "(as ‘lib’ is unspecified)\n",
            "\n",
            "Installing package into ‘/usr/local/lib/R/site-library’\n",
            "(as ‘lib’ is unspecified)\n",
            "\n",
            "── \u001b[1mAttaching core tidyverse packages\u001b[22m ──────────────────────── tidyverse 2.0.0 ──\n",
            "\u001b[32m✔\u001b[39m \u001b[34mdplyr    \u001b[39m 1.1.4     \u001b[32m✔\u001b[39m \u001b[34mpurrr    \u001b[39m 1.0.2\n",
            "\u001b[32m✔\u001b[39m \u001b[34mforcats  \u001b[39m 1.0.0     \u001b[32m✔\u001b[39m \u001b[34mstringr  \u001b[39m 1.5.1\n",
            "\u001b[32m✔\u001b[39m \u001b[34mggplot2  \u001b[39m 3.5.1     \u001b[32m✔\u001b[39m \u001b[34mtibble   \u001b[39m 3.2.1\n",
            "\u001b[32m✔\u001b[39m \u001b[34mlubridate\u001b[39m 1.9.4     \u001b[32m✔\u001b[39m \u001b[34mtidyr    \u001b[39m 1.3.1\n",
            "── \u001b[1mConflicts\u001b[22m ────────────────────────────────────────── tidyverse_conflicts() ──\n",
            "\u001b[31m✖\u001b[39m \u001b[34mdplyr\u001b[39m::\u001b[32mfilter()\u001b[39m masks \u001b[34mstats\u001b[39m::filter()\n",
            "\u001b[31m✖\u001b[39m \u001b[34mdplyr\u001b[39m::\u001b[32mlag()\u001b[39m    masks \u001b[34mstats\u001b[39m::lag()\n",
            "\u001b[36mℹ\u001b[39m Use the conflicted package (\u001b[3m\u001b[34m<http://conflicted.r-lib.org/>\u001b[39m\u001b[23m) to force all conflicts to become errors\n",
            "\u001b[1mRows: \u001b[22m\u001b[34m3276\u001b[39m \u001b[1mColumns: \u001b[22m\u001b[34m10\u001b[39m\n",
            "\u001b[36m──\u001b[39m \u001b[1mColumn specification\u001b[22m \u001b[36m────────────────────────────────────────────────────────\u001b[39m\n",
            "\u001b[1mDelimiter:\u001b[22m \",\"\n",
            "\u001b[32mdbl\u001b[39m (10): ph, Hardness, Solids, Chloramines, Sulfate, Conductivity, Organic_...\n",
            "\n",
            "\u001b[36mℹ\u001b[39m Use `spec()` to retrieve the full column specification for this data.\n",
            "\u001b[36mℹ\u001b[39m Specify the column types or set `show_col_types = FALSE` to quiet this message.\n"
          ]
        },
        {
          "output_type": "display_data",
          "data": {
            "text/html": [
              "<table class=\"dataframe\">\n",
              "<caption>A tibble: 6 × 10</caption>\n",
              "<thead>\n",
              "\t<tr><th scope=col>ph</th><th scope=col>Hardness</th><th scope=col>Solids</th><th scope=col>Chloramines</th><th scope=col>Sulfate</th><th scope=col>Conductivity</th><th scope=col>Organic_carbon</th><th scope=col>Trihalomethanes</th><th scope=col>Turbidity</th><th scope=col>Potability</th></tr>\n",
              "\t<tr><th scope=col>&lt;dbl&gt;</th><th scope=col>&lt;dbl&gt;</th><th scope=col>&lt;dbl&gt;</th><th scope=col>&lt;dbl&gt;</th><th scope=col>&lt;dbl&gt;</th><th scope=col>&lt;dbl&gt;</th><th scope=col>&lt;dbl&gt;</th><th scope=col>&lt;dbl&gt;</th><th scope=col>&lt;dbl&gt;</th><th scope=col>&lt;dbl&gt;</th></tr>\n",
              "</thead>\n",
              "<tbody>\n",
              "\t<tr><td>      NA</td><td>204.8905</td><td>20791.32</td><td>7.300212</td><td>368.5164</td><td>564.3087</td><td>10.379783</td><td> 86.99097</td><td>2.963135</td><td>0</td></tr>\n",
              "\t<tr><td>3.716080</td><td>129.4229</td><td>18630.06</td><td>6.635246</td><td>      NA</td><td>592.8854</td><td>15.180013</td><td> 56.32908</td><td>4.500656</td><td>0</td></tr>\n",
              "\t<tr><td>8.099124</td><td>224.2363</td><td>19909.54</td><td>9.275884</td><td>      NA</td><td>418.6062</td><td>16.868637</td><td> 66.42009</td><td>3.055934</td><td>0</td></tr>\n",
              "\t<tr><td>8.316766</td><td>214.3734</td><td>22018.42</td><td>8.059332</td><td>356.8861</td><td>363.2665</td><td>18.436524</td><td>100.34167</td><td>4.628771</td><td>0</td></tr>\n",
              "\t<tr><td>9.092223</td><td>181.1015</td><td>17978.99</td><td>6.546600</td><td>310.1357</td><td>398.4108</td><td>11.558279</td><td> 31.99799</td><td>4.075075</td><td>0</td></tr>\n",
              "\t<tr><td>5.584087</td><td>188.3133</td><td>28748.69</td><td>7.544869</td><td>326.6784</td><td>280.4679</td><td> 8.399735</td><td> 54.91786</td><td>2.559708</td><td>0</td></tr>\n",
              "</tbody>\n",
              "</table>\n"
            ],
            "text/markdown": "\nA tibble: 6 × 10\n\n| ph &lt;dbl&gt; | Hardness &lt;dbl&gt; | Solids &lt;dbl&gt; | Chloramines &lt;dbl&gt; | Sulfate &lt;dbl&gt; | Conductivity &lt;dbl&gt; | Organic_carbon &lt;dbl&gt; | Trihalomethanes &lt;dbl&gt; | Turbidity &lt;dbl&gt; | Potability &lt;dbl&gt; |\n|---|---|---|---|---|---|---|---|---|---|\n|       NA | 204.8905 | 20791.32 | 7.300212 | 368.5164 | 564.3087 | 10.379783 |  86.99097 | 2.963135 | 0 |\n| 3.716080 | 129.4229 | 18630.06 | 6.635246 |       NA | 592.8854 | 15.180013 |  56.32908 | 4.500656 | 0 |\n| 8.099124 | 224.2363 | 19909.54 | 9.275884 |       NA | 418.6062 | 16.868637 |  66.42009 | 3.055934 | 0 |\n| 8.316766 | 214.3734 | 22018.42 | 8.059332 | 356.8861 | 363.2665 | 18.436524 | 100.34167 | 4.628771 | 0 |\n| 9.092223 | 181.1015 | 17978.99 | 6.546600 | 310.1357 | 398.4108 | 11.558279 |  31.99799 | 4.075075 | 0 |\n| 5.584087 | 188.3133 | 28748.69 | 7.544869 | 326.6784 | 280.4679 |  8.399735 |  54.91786 | 2.559708 | 0 |\n\n",
            "text/latex": "A tibble: 6 × 10\n\\begin{tabular}{llllllllll}\n ph & Hardness & Solids & Chloramines & Sulfate & Conductivity & Organic\\_carbon & Trihalomethanes & Turbidity & Potability\\\\\n <dbl> & <dbl> & <dbl> & <dbl> & <dbl> & <dbl> & <dbl> & <dbl> & <dbl> & <dbl>\\\\\n\\hline\n\t       NA & 204.8905 & 20791.32 & 7.300212 & 368.5164 & 564.3087 & 10.379783 &  86.99097 & 2.963135 & 0\\\\\n\t 3.716080 & 129.4229 & 18630.06 & 6.635246 &       NA & 592.8854 & 15.180013 &  56.32908 & 4.500656 & 0\\\\\n\t 8.099124 & 224.2363 & 19909.54 & 9.275884 &       NA & 418.6062 & 16.868637 &  66.42009 & 3.055934 & 0\\\\\n\t 8.316766 & 214.3734 & 22018.42 & 8.059332 & 356.8861 & 363.2665 & 18.436524 & 100.34167 & 4.628771 & 0\\\\\n\t 9.092223 & 181.1015 & 17978.99 & 6.546600 & 310.1357 & 398.4108 & 11.558279 &  31.99799 & 4.075075 & 0\\\\\n\t 5.584087 & 188.3133 & 28748.69 & 7.544869 & 326.6784 & 280.4679 &  8.399735 &  54.91786 & 2.559708 & 0\\\\\n\\end{tabular}\n",
            "text/plain": [
              "  ph       Hardness Solids   Chloramines Sulfate  Conductivity Organic_carbon\n",
              "1       NA 204.8905 20791.32 7.300212    368.5164 564.3087     10.379783     \n",
              "2 3.716080 129.4229 18630.06 6.635246          NA 592.8854     15.180013     \n",
              "3 8.099124 224.2363 19909.54 9.275884          NA 418.6062     16.868637     \n",
              "4 8.316766 214.3734 22018.42 8.059332    356.8861 363.2665     18.436524     \n",
              "5 9.092223 181.1015 17978.99 6.546600    310.1357 398.4108     11.558279     \n",
              "6 5.584087 188.3133 28748.69 7.544869    326.6784 280.4679      8.399735     \n",
              "  Trihalomethanes Turbidity Potability\n",
              "1  86.99097       2.963135  0         \n",
              "2  56.32908       4.500656  0         \n",
              "3  66.42009       3.055934  0         \n",
              "4 100.34167       4.628771  0         \n",
              "5  31.99799       4.075075  0         \n",
              "6  54.91786       2.559708  0         "
            ]
          },
          "metadata": {}
        }
      ]
    },
    {
      "cell_type": "markdown",
      "source": [
        "**Características básicas**"
      ],
      "metadata": {
        "id": "PDDtrQoo4CQ7"
      }
    },
    {
      "cell_type": "code",
      "source": [
        "# Resumen general de los datos\n",
        "summary(water_data)\n",
        "\n",
        "# Verificar valores faltantes en el conjunto de datos\n",
        "colSums(is.na(water_data))\n",
        "\n",
        "# Obtener las dimensiones del conjunto de datos (filas y columnas)\n",
        "dim(water_data)\n"
      ],
      "metadata": {
        "colab": {
          "base_uri": "https://localhost:8080/",
          "height": 468
        },
        "id": "Myip-LxX4FRf",
        "outputId": "ea617672-dfc5-4448-e061-d79cbb6f2aa8"
      },
      "execution_count": null,
      "outputs": [
        {
          "output_type": "display_data",
          "data": {
            "text/plain": [
              "       ph            Hardness          Solids         Chloramines    \n",
              " Min.   : 0.000   Min.   : 47.43   Min.   :  320.9   Min.   : 0.352  \n",
              " 1st Qu.: 6.093   1st Qu.:176.85   1st Qu.:15666.7   1st Qu.: 6.127  \n",
              " Median : 7.037   Median :196.97   Median :20927.8   Median : 7.130  \n",
              " Mean   : 7.081   Mean   :196.37   Mean   :22014.1   Mean   : 7.122  \n",
              " 3rd Qu.: 8.062   3rd Qu.:216.67   3rd Qu.:27332.8   3rd Qu.: 8.115  \n",
              " Max.   :14.000   Max.   :323.12   Max.   :61227.2   Max.   :13.127  \n",
              " NA's   :491                                                         \n",
              "    Sulfate       Conductivity   Organic_carbon  Trihalomethanes  \n",
              " Min.   :129.0   Min.   :181.5   Min.   : 2.20   Min.   :  0.738  \n",
              " 1st Qu.:307.7   1st Qu.:365.7   1st Qu.:12.07   1st Qu.: 55.845  \n",
              " Median :333.1   Median :421.9   Median :14.22   Median : 66.622  \n",
              " Mean   :333.8   Mean   :426.2   Mean   :14.28   Mean   : 66.396  \n",
              " 3rd Qu.:360.0   3rd Qu.:481.8   3rd Qu.:16.56   3rd Qu.: 77.337  \n",
              " Max.   :481.0   Max.   :753.3   Max.   :28.30   Max.   :124.000  \n",
              " NA's   :781                                     NA's   :162      \n",
              "   Turbidity       Potability    \n",
              " Min.   :1.450   Min.   :0.0000  \n",
              " 1st Qu.:3.440   1st Qu.:0.0000  \n",
              " Median :3.955   Median :0.0000  \n",
              " Mean   :3.967   Mean   :0.3901  \n",
              " 3rd Qu.:4.500   3rd Qu.:1.0000  \n",
              " Max.   :6.739   Max.   :1.0000  \n",
              "                                 "
            ]
          },
          "metadata": {}
        },
        {
          "output_type": "display_data",
          "data": {
            "text/html": [
              "<style>\n",
              ".dl-inline {width: auto; margin:0; padding: 0}\n",
              ".dl-inline>dt, .dl-inline>dd {float: none; width: auto; display: inline-block}\n",
              ".dl-inline>dt::after {content: \":\\0020\"; padding-right: .5ex}\n",
              ".dl-inline>dt:not(:first-of-type) {padding-left: .5ex}\n",
              "</style><dl class=dl-inline><dt>ph</dt><dd>491</dd><dt>Hardness</dt><dd>0</dd><dt>Solids</dt><dd>0</dd><dt>Chloramines</dt><dd>0</dd><dt>Sulfate</dt><dd>781</dd><dt>Conductivity</dt><dd>0</dd><dt>Organic_carbon</dt><dd>0</dd><dt>Trihalomethanes</dt><dd>162</dd><dt>Turbidity</dt><dd>0</dd><dt>Potability</dt><dd>0</dd></dl>\n"
            ],
            "text/markdown": "ph\n:   491Hardness\n:   0Solids\n:   0Chloramines\n:   0Sulfate\n:   781Conductivity\n:   0Organic_carbon\n:   0Trihalomethanes\n:   162Turbidity\n:   0Potability\n:   0\n\n",
            "text/latex": "\\begin{description*}\n\\item[ph] 491\n\\item[Hardness] 0\n\\item[Solids] 0\n\\item[Chloramines] 0\n\\item[Sulfate] 781\n\\item[Conductivity] 0\n\\item[Organic\\textbackslash{}\\_carbon] 0\n\\item[Trihalomethanes] 162\n\\item[Turbidity] 0\n\\item[Potability] 0\n\\end{description*}\n",
            "text/plain": [
              "             ph        Hardness          Solids     Chloramines         Sulfate \n",
              "            491               0               0               0             781 \n",
              "   Conductivity  Organic_carbon Trihalomethanes       Turbidity      Potability \n",
              "              0               0             162               0               0 "
            ]
          },
          "metadata": {}
        },
        {
          "output_type": "display_data",
          "data": {
            "text/html": [
              "<style>\n",
              ".list-inline {list-style: none; margin:0; padding: 0}\n",
              ".list-inline>li {display: inline-block}\n",
              ".list-inline>li:not(:last-child)::after {content: \"\\00b7\"; padding: 0 .5ex}\n",
              "</style>\n",
              "<ol class=list-inline><li>3276</li><li>10</li></ol>\n"
            ],
            "text/markdown": "1. 3276\n2. 10\n\n\n",
            "text/latex": "\\begin{enumerate*}\n\\item 3276\n\\item 10\n\\end{enumerate*}\n",
            "text/plain": [
              "[1] 3276   10"
            ]
          },
          "metadata": {}
        }
      ]
    },
    {
      "cell_type": "markdown",
      "source": [
        "El análisis inicial del conjunto de datos indica presencia de valores faltantes en las variables pH, Sulfate y Trihalomethanes, con 491, 781 y 162 valores faltantes respectivamente. Hay que hacer un manejo adecuado de estos datos antes de proceder con el modelado, ya que representan una proporción significativa del total de observaciones en algunos casos. Las demás variables, como Hardness, Solids, Chloramines, Conductivity, Organic_carbon y Turbidity, no presentan valores faltantes, . La variable objetivo, Potability, está completamente definida y no contiene valores faltantes. A partir de estos hallazgos, se deben tomar decisiones , ya sea imputándolos utilizando métodos estadísticos como la media o la mediana, o eliminando las filas afectadas si su proporción no compromete la integridad del conjunto de datos."
      ],
      "metadata": {
        "id": "wzO9GOa64aRn"
      }
    },
    {
      "cell_type": "code",
      "source": [
        "# Resumen estadístico general\n",
        "summary(water_data)\n",
        "\n",
        "# Verificar la presencia de valores faltantes en todas las columnas\n",
        "colSums(is.na(water_data))\n",
        "\n",
        "# Verificar los tipos de datos de cada columna\n",
        "str(water_data)\n"
      ],
      "metadata": {
        "colab": {
          "base_uri": "https://localhost:8080/",
          "height": 885
        },
        "id": "Z-KgL09Q7s2J",
        "outputId": "1f7e3f3b-a413-49f1-9196-b901f736245c"
      },
      "execution_count": null,
      "outputs": [
        {
          "output_type": "display_data",
          "data": {
            "text/plain": [
              "       ph            Hardness          Solids         Chloramines    \n",
              " Min.   : 0.000   Min.   : 47.43   Min.   :  320.9   Min.   : 0.352  \n",
              " 1st Qu.: 6.093   1st Qu.:176.85   1st Qu.:15666.7   1st Qu.: 6.127  \n",
              " Median : 7.037   Median :196.97   Median :20927.8   Median : 7.130  \n",
              " Mean   : 7.081   Mean   :196.37   Mean   :22014.1   Mean   : 7.122  \n",
              " 3rd Qu.: 8.062   3rd Qu.:216.67   3rd Qu.:27332.8   3rd Qu.: 8.115  \n",
              " Max.   :14.000   Max.   :323.12   Max.   :61227.2   Max.   :13.127  \n",
              " NA's   :491                                                         \n",
              "    Sulfate       Conductivity   Organic_carbon  Trihalomethanes  \n",
              " Min.   :129.0   Min.   :181.5   Min.   : 2.20   Min.   :  0.738  \n",
              " 1st Qu.:317.1   1st Qu.:365.7   1st Qu.:12.07   1st Qu.: 56.648  \n",
              " Median :333.1   Median :421.9   Median :14.22   Median : 66.622  \n",
              " Mean   :333.6   Mean   :426.2   Mean   :14.28   Mean   : 66.407  \n",
              " 3rd Qu.:350.4   3rd Qu.:481.8   3rd Qu.:16.56   3rd Qu.: 76.667  \n",
              " Max.   :481.0   Max.   :753.3   Max.   :28.30   Max.   :124.000  \n",
              "                                                                  \n",
              "   Turbidity       Potability    \n",
              " Min.   :1.450   Min.   :0.0000  \n",
              " 1st Qu.:3.440   1st Qu.:0.0000  \n",
              " Median :3.955   Median :0.0000  \n",
              " Mean   :3.967   Mean   :0.3901  \n",
              " 3rd Qu.:4.500   3rd Qu.:1.0000  \n",
              " Max.   :6.739   Max.   :1.0000  \n",
              "                                 "
            ]
          },
          "metadata": {}
        },
        {
          "output_type": "display_data",
          "data": {
            "text/html": [
              "<style>\n",
              ".dl-inline {width: auto; margin:0; padding: 0}\n",
              ".dl-inline>dt, .dl-inline>dd {float: none; width: auto; display: inline-block}\n",
              ".dl-inline>dt::after {content: \":\\0020\"; padding-right: .5ex}\n",
              ".dl-inline>dt:not(:first-of-type) {padding-left: .5ex}\n",
              "</style><dl class=dl-inline><dt>ph</dt><dd>491</dd><dt>Hardness</dt><dd>0</dd><dt>Solids</dt><dd>0</dd><dt>Chloramines</dt><dd>0</dd><dt>Sulfate</dt><dd>0</dd><dt>Conductivity</dt><dd>0</dd><dt>Organic_carbon</dt><dd>0</dd><dt>Trihalomethanes</dt><dd>0</dd><dt>Turbidity</dt><dd>0</dd><dt>Potability</dt><dd>0</dd></dl>\n"
            ],
            "text/markdown": "ph\n:   491Hardness\n:   0Solids\n:   0Chloramines\n:   0Sulfate\n:   0Conductivity\n:   0Organic_carbon\n:   0Trihalomethanes\n:   0Turbidity\n:   0Potability\n:   0\n\n",
            "text/latex": "\\begin{description*}\n\\item[ph] 491\n\\item[Hardness] 0\n\\item[Solids] 0\n\\item[Chloramines] 0\n\\item[Sulfate] 0\n\\item[Conductivity] 0\n\\item[Organic\\textbackslash{}\\_carbon] 0\n\\item[Trihalomethanes] 0\n\\item[Turbidity] 0\n\\item[Potability] 0\n\\end{description*}\n",
            "text/plain": [
              "             ph        Hardness          Solids     Chloramines         Sulfate \n",
              "            491               0               0               0               0 \n",
              "   Conductivity  Organic_carbon Trihalomethanes       Turbidity      Potability \n",
              "              0               0               0               0               0 "
            ]
          },
          "metadata": {}
        },
        {
          "output_type": "stream",
          "name": "stdout",
          "text": [
            "spc_tbl_ [3,276 × 10] (S3: spec_tbl_df/tbl_df/tbl/data.frame)\n",
            " $ ph             : num [1:3276] NA 3.72 8.1 8.32 9.09 ...\n",
            " $ Hardness       : num [1:3276] 205 129 224 214 181 ...\n",
            " $ Solids         : num [1:3276] 20791 18630 19910 22018 17979 ...\n",
            " $ Chloramines    : num [1:3276] 7.3 6.64 9.28 8.06 6.55 ...\n",
            " $ Sulfate        : num [1:3276] 369 333 333 357 310 ...\n",
            " $ Conductivity   : num [1:3276] 564 593 419 363 398 ...\n",
            " $ Organic_carbon : num [1:3276] 10.4 15.2 16.9 18.4 11.6 ...\n",
            " $ Trihalomethanes: num [1:3276] 87 56.3 66.4 100.3 32 ...\n",
            " $ Turbidity      : num [1:3276] 2.96 4.5 3.06 4.63 4.08 ...\n",
            " $ Potability     : num [1:3276] 0 0 0 0 0 0 0 0 0 0 ...\n",
            " - attr(*, \"spec\")=\n",
            "  .. cols(\n",
            "  ..   ph = \u001b[32mcol_double()\u001b[39m,\n",
            "  ..   Hardness = \u001b[32mcol_double()\u001b[39m,\n",
            "  ..   Solids = \u001b[32mcol_double()\u001b[39m,\n",
            "  ..   Chloramines = \u001b[32mcol_double()\u001b[39m,\n",
            "  ..   Sulfate = \u001b[32mcol_double()\u001b[39m,\n",
            "  ..   Conductivity = \u001b[32mcol_double()\u001b[39m,\n",
            "  ..   Organic_carbon = \u001b[32mcol_double()\u001b[39m,\n",
            "  ..   Trihalomethanes = \u001b[32mcol_double()\u001b[39m,\n",
            "  ..   Turbidity = \u001b[32mcol_double()\u001b[39m,\n",
            "  ..   Potability = \u001b[32mcol_double()\u001b[39m\n",
            "  .. )\n",
            " - attr(*, \"problems\")=<externalptr> \n"
          ]
        }
      ]
    },
    {
      "cell_type": "code",
      "source": [
        "# Imputar valores faltantes en pH con la mediana\n",
        "water_data$pH[is.na(water_data$pH)] <- median(water_data$pH, na.rm = TRUE)\n",
        "\n",
        "# Verificar que ya no hay valores faltantes\n",
        "colSums(is.na(water_data))\n",
        "\n",
        "# Generar un histograma para visualizar la distribución de pH\n",
        "hist(water_data$pH, main = \"Distribución del pH\", xlab = \"pH\", col = \"lightblue\", border = \"black\")\n"
      ],
      "metadata": {
        "colab": {
          "base_uri": "https://localhost:8080/",
          "height": 488
        },
        "id": "oStFnUJu8AZW",
        "outputId": "bda1437f-a8a0-48f0-ac55-7f0ee77716ab"
      },
      "execution_count": null,
      "outputs": [
        {
          "output_type": "stream",
          "name": "stderr",
          "text": [
            "Warning message:\n",
            "“Unknown or uninitialised column: `pH`.”\n",
            "Warning message:\n",
            "“Unknown or uninitialised column: `pH`.”\n",
            "Warning message:\n",
            "“Unknown or uninitialised column: `pH`.”\n"
          ]
        },
        {
          "output_type": "display_data",
          "data": {
            "text/html": [
              "<style>\n",
              ".dl-inline {width: auto; margin:0; padding: 0}\n",
              ".dl-inline>dt, .dl-inline>dd {float: none; width: auto; display: inline-block}\n",
              ".dl-inline>dt::after {content: \":\\0020\"; padding-right: .5ex}\n",
              ".dl-inline>dt:not(:first-of-type) {padding-left: .5ex}\n",
              "</style><dl class=dl-inline><dt>ph</dt><dd>491</dd><dt>Hardness</dt><dd>0</dd><dt>Solids</dt><dd>0</dd><dt>Chloramines</dt><dd>0</dd><dt>Sulfate</dt><dd>0</dd><dt>Conductivity</dt><dd>0</dd><dt>Organic_carbon</dt><dd>0</dd><dt>Trihalomethanes</dt><dd>0</dd><dt>Turbidity</dt><dd>0</dd><dt>Potability</dt><dd>0</dd></dl>\n"
            ],
            "text/markdown": "ph\n:   491Hardness\n:   0Solids\n:   0Chloramines\n:   0Sulfate\n:   0Conductivity\n:   0Organic_carbon\n:   0Trihalomethanes\n:   0Turbidity\n:   0Potability\n:   0\n\n",
            "text/latex": "\\begin{description*}\n\\item[ph] 491\n\\item[Hardness] 0\n\\item[Solids] 0\n\\item[Chloramines] 0\n\\item[Sulfate] 0\n\\item[Conductivity] 0\n\\item[Organic\\textbackslash{}\\_carbon] 0\n\\item[Trihalomethanes] 0\n\\item[Turbidity] 0\n\\item[Potability] 0\n\\end{description*}\n",
            "text/plain": [
              "             ph        Hardness          Solids     Chloramines         Sulfate \n",
              "            491               0               0               0               0 \n",
              "   Conductivity  Organic_carbon Trihalomethanes       Turbidity      Potability \n",
              "              0               0               0               0               0 "
            ]
          },
          "metadata": {}
        },
        {
          "output_type": "stream",
          "name": "stderr",
          "text": [
            "Warning message:\n",
            "“Unknown or uninitialised column: `pH`.”\n"
          ]
        },
        {
          "output_type": "error",
          "ename": "ERROR",
          "evalue": "Error in hist.default(water_data$pH, main = \"Distribución del pH\", xlab = \"pH\", : 'x' must be numeric\n",
          "traceback": [
            "Error in hist.default(water_data$pH, main = \"Distribución del pH\", xlab = \"pH\", : 'x' must be numeric\nTraceback:\n",
            "1. hist.default(water_data$pH, main = \"Distribución del pH\", xlab = \"pH\", \n .     col = \"lightblue\", border = \"black\")",
            "2. stop(\"'x' must be numeric\")",
            "3. .handleSimpleError(function (cnd) \n . {\n .     watcher$capture_plot_and_output()\n .     cnd <- sanitize_call(cnd)\n .     watcher$push(cnd)\n .     switch(on_error, continue = invokeRestart(\"eval_continue\"), \n .         stop = invokeRestart(\"eval_stop\"), error = invokeRestart(\"eval_error\", \n .             cnd))\n . }, \"'x' must be numeric\", base::quote(hist.default(water_data$pH, \n .     main = \"Distribución del pH\", xlab = \"pH\", col = \"lightblue\", \n .     border = \"black\")))"
          ]
        }
      ]
    },
    {
      "cell_type": "markdown",
      "source": [
        "Normalización de variables"
      ],
      "metadata": {
        "id": "Ac8tYlHd8YcN"
      }
    },
    {
      "cell_type": "code",
      "source": [
        "# Normalizar todas las variables numéricas excepto la variable objetivo\n",
        "normalize <- function(x) {\n",
        "  return((x - min(x, na.rm = TRUE)) / (max(x, na.rm = TRUE) - min(x, na.rm = TRUE)))\n",
        "}\n",
        "\n",
        "# Aplicar normalización\n",
        "water_data_norm <- water_data\n",
        "water_data_norm[ , -which(names(water_data) == \"Potability\")] <- lapply(water_data_norm[ , -which(names(water_data) == \"Potability\")], normalize)\n",
        "\n",
        "# Verificar el resultado\n",
        "summary(water_data_norm)\n"
      ],
      "metadata": {
        "colab": {
          "base_uri": "https://localhost:8080/",
          "height": 434
        },
        "id": "Gw6S4dWc8biU",
        "outputId": "f9396d3a-0db2-4325-bd34-2c1c46249ee1"
      },
      "execution_count": null,
      "outputs": [
        {
          "output_type": "display_data",
          "data": {
            "text/plain": [
              "       ph            Hardness          Solids        Chloramines    \n",
              " Min.   :0.0000   Min.   :0.0000   Min.   :0.0000   Min.   :0.0000  \n",
              " 1st Qu.:0.4352   1st Qu.:0.4694   1st Qu.:0.2520   1st Qu.:0.4521  \n",
              " Median :0.5026   Median :0.5424   Median :0.3383   Median :0.5306  \n",
              " Mean   :0.5058   Mean   :0.5402   Mean   :0.3562   Mean   :0.5300  \n",
              " 3rd Qu.:0.5759   3rd Qu.:0.6139   3rd Qu.:0.4435   3rd Qu.:0.6077  \n",
              " Max.   :1.0000   Max.   :1.0000   Max.   :1.0000   Max.   :1.0000  \n",
              " NA's   :491                                                        \n",
              "    Sulfate        Conductivity    Organic_carbon   Trihalomethanes \n",
              " Min.   :0.0000   Min.   :0.0000   Min.   :0.0000   Min.   :0.0000  \n",
              " 1st Qu.:0.5343   1st Qu.:0.3222   1st Qu.:0.3780   1st Qu.:0.4536  \n",
              " Median :0.5797   Median :0.4204   Median :0.4605   Median :0.5345  \n",
              " Mean   :0.5812   Mean   :0.4279   Mean   :0.4630   Mean   :0.5328  \n",
              " 3rd Qu.:0.6289   3rd Qu.:0.5251   3rd Qu.:0.5501   3rd Qu.:0.6160  \n",
              " Max.   :1.0000   Max.   :1.0000   Max.   :1.0000   Max.   :1.0000  \n",
              "                                                                    \n",
              "   Turbidity        Potability    \n",
              " Min.   :0.0000   Min.   :0.0000  \n",
              " 1st Qu.:0.3762   1st Qu.:0.0000  \n",
              " Median :0.4736   Median :0.0000  \n",
              " Mean   :0.4759   Mean   :0.3901  \n",
              " 3rd Qu.:0.5767   3rd Qu.:1.0000  \n",
              " Max.   :1.0000   Max.   :1.0000  \n",
              "                                  "
            ]
          },
          "metadata": {}
        }
      ]
    },
    {
      "cell_type": "markdown",
      "source": [
        "Evaluación de datos atípicos usando boxplots"
      ],
      "metadata": {
        "id": "Jcg-YWpg8tjG"
      }
    },
    {
      "cell_type": "code",
      "source": [
        "# Crear boxplots para todas las variables numéricas excepto la variable objetivo\n",
        "par(mfrow = c(3, 3))  # Ajustar el layout para múltiples gráficos\n",
        "numeric_columns <- setdiff(names(water_data_norm), \"Potability\")\n",
        "\n",
        "for (col in numeric_columns) {\n",
        "  boxplot(water_data_norm[[col]], main = paste(\"Boxplot de\", col), col = \"lightblue\", border = \"black\")\n",
        "}\n"
      ],
      "metadata": {
        "colab": {
          "base_uri": "https://localhost:8080/",
          "height": 437
        },
        "id": "L0VkRvRq8-Le",
        "outputId": "1cad0905-7be3-4e07-80db-f4b7c7a11498"
      },
      "execution_count": null,
      "outputs": [
        {
          "output_type": "display_data",
          "data": {
            "text/plain": [
              "Plot with title “Boxplot de Turbidity”"
            ],
            "image/png": "[encoded data removed]"
          },
          "metadata": {
            "image/png": {
              "width": 420,
              "height": 420
            }
          }
        }
      ]
    },
    {
      "cell_type": "markdown",
      "source": [
        "Eliminar datos atípicos"
      ],
      "metadata": {
        "id": "00PTBkDy9GPn"
      }
    },
    {
      "cell_type": "code",
      "source": [
        "# Función para eliminar outliers basada en el rango intercuartil\n",
        "remove_outliers <- function(df, col_name) {\n",
        "  Q1 <- quantile(df[[col_name]], 0.25, na.rm = TRUE)\n",
        "  Q3 <- quantile(df[[col_name]], 0.75, na.rm = TRUE)\n",
        "  IQR <- Q3 - Q1\n",
        "  lower_bound <- Q1 - 1.5 * IQR\n",
        "  upper_bound <- Q3 + 1.5 * IQR\n",
        "  df <- df[df[[col_name]] >= lower_bound & df[[col_name]] <= upper_bound, ]\n",
        "  return(df)\n",
        "}\n",
        "\n",
        "# Aplicar la función a todas las columnas numéricas\n",
        "for (col in numeric_columns) {\n",
        "  water_data_norm <- remove_outliers(water_data_norm, col)\n",
        "}\n",
        "\n",
        "# Verificar el nuevo tamaño del conjunto de datos\n",
        "dim(water_data_norm)\n"
      ],
      "metadata": {
        "colab": {
          "base_uri": "https://localhost:8080/",
          "height": 34
        },
        "id": "AuiUURKp9I1-",
        "outputId": "95a748af-f507-47e8-e5bd-462bc0217057"
      },
      "execution_count": null,
      "outputs": [
        {
          "output_type": "display_data",
          "data": {
            "text/html": [
              "<style>\n",
              ".list-inline {list-style: none; margin:0; padding: 0}\n",
              ".list-inline>li {display: inline-block}\n",
              ".list-inline>li:not(:last-child)::after {content: \"\\00b7\"; padding: 0 .5ex}\n",
              "</style>\n",
              "<ol class=list-inline><li>2809</li><li>10</li></ol>\n"
            ],
            "text/markdown": "1. 2809\n2. 10\n\n\n",
            "text/latex": "\\begin{enumerate*}\n\\item 2809\n\\item 10\n\\end{enumerate*}\n",
            "text/plain": [
              "[1] 2809   10"
            ]
          },
          "metadata": {}
        }
      ]
    },
    {
      "cell_type": "markdown",
      "source": [
        "Ajuste del primer modelo"
      ],
      "metadata": {
        "id": "r3q11GhW9ljA"
      }
    },
    {
      "cell_type": "markdown",
      "source": [
        "El modelo Random Forest es una elección  para este análisis debido a su robustez frente a valores atípicos y datos tratados, su capacidad para manejar variables interrelacionadas y como modelo no paramétrico, que no requiere suposiciones sobre la distribución de los datos. Además, permite identificar la importancia de las variables en la predicción, lo que aporta información valiosa sobre el problema. Estas características hacen de Random Forest un  punto de partida para evaluar la potabilidad del agua."
      ],
      "metadata": {
        "id": "mMzDE2ie9yzn"
      }
    },
    {
      "cell_type": "markdown",
      "source": [
        "Dividir datos para ver configuración"
      ],
      "metadata": {
        "id": "DoRVJmquCIrf"
      }
    },
    {
      "cell_type": "code",
      "source": [
        "# Dividir los datos en entrenamiento y prueba\n",
        "set.seed(123)  # Para reproducibilidad\n",
        "train_index <- sample(1:nrow(water_data_norm), 0.7 * nrow(water_data_norm))\n",
        "\n",
        "train_data <- water_data_norm[train_index, ]\n",
        "test_data <- water_data_norm[-train_index, ]\n",
        "\n",
        "# Confirmar las dimensiones de los conjuntos\n",
        "cat(\"Conjunto de entrenamiento:\", dim(train_data)[1], \"filas\\n\")\n",
        "cat(\"Conjunto de prueba:\", dim(test_data)[1], \"filas\\n\")\n"
      ],
      "metadata": {
        "colab": {
          "base_uri": "https://localhost:8080/"
        },
        "id": "4uEYp000-Vdf",
        "outputId": "4e4f5ae3-1f94-4dbb-da84-b57c8a606658"
      },
      "execution_count": null,
      "outputs": [
        {
          "output_type": "stream",
          "name": "stdout",
          "text": [
            "Conjunto de entrenamiento: 1966 filas\n",
            "Conjunto de prueba: 843 filas\n"
          ]
        }
      ]
    },
    {
      "cell_type": "code",
      "source": [
        "# Verificar las primeras filas de train_data\n",
        "head(train_data)\n",
        "\n",
        "# Verificar el resumen de las columnas\n",
        "str(train_data)\n"
      ],
      "metadata": {
        "colab": {
          "base_uri": "https://localhost:8080/",
          "height": 477
        },
        "id": "KMPrh_r6-yeB",
        "outputId": "4e99280f-7fd2-455b-aab1-a016cec03dab"
      },
      "execution_count": null,
      "outputs": [
        {
          "output_type": "display_data",
          "data": {
            "text/html": [
              "<table class=\"dataframe\">\n",
              "<caption>A tibble: 6 × 10</caption>\n",
              "<thead>\n",
              "\t<tr><th scope=col>ph</th><th scope=col>Hardness</th><th scope=col>Solids</th><th scope=col>Chloramines</th><th scope=col>Sulfate</th><th scope=col>Conductivity</th><th scope=col>Organic_carbon</th><th scope=col>Trihalomethanes</th><th scope=col>Turbidity</th><th scope=col>Potability</th></tr>\n",
              "\t<tr><th scope=col>&lt;dbl&gt;</th><th scope=col>&lt;dbl&gt;</th><th scope=col>&lt;dbl&gt;</th><th scope=col>&lt;dbl&gt;</th><th scope=col>&lt;dbl&gt;</th><th scope=col>&lt;dbl&gt;</th><th scope=col>&lt;dbl&gt;</th><th scope=col>&lt;dbl&gt;</th><th scope=col>&lt;dbl&gt;</th><th scope=col>&lt;dbl&gt;</th></tr>\n",
              "</thead>\n",
              "<tbody>\n",
              "\t<tr><td>0.5956741</td><td>0.4648838</td><td>0.2020960</td><td>0.5185373</td><td>0.5797039</td><td>0.4736374</td><td>0.5873119</td><td>0.8203128</td><td>0.5074109</td><td> 0</td></tr>\n",
              "\t<tr><td>       NA</td><td>       NA</td><td>       NA</td><td>       NA</td><td>       NA</td><td>       NA</td><td>       NA</td><td>       NA</td><td>       NA</td><td>NA</td></tr>\n",
              "\t<tr><td>0.4685448</td><td>0.3797107</td><td>0.3661872</td><td>0.5799693</td><td>0.7343645</td><td>0.3713096</td><td>0.3029679</td><td>0.4425425</td><td>0.4186922</td><td> 0</td></tr>\n",
              "\t<tr><td>0.4483068</td><td>0.4988177</td><td>0.4651826</td><td>0.4827738</td><td>0.5859086</td><td>0.5052749</td><td>0.3447695</td><td>0.5345077</td><td>0.5469388</td><td> 0</td></tr>\n",
              "\t<tr><td>0.3639833</td><td>0.8196700</td><td>0.4266615</td><td>0.7724308</td><td>0.7135785</td><td>0.5812515</td><td>0.6158015</td><td>0.4923430</td><td>0.5487225</td><td> 0</td></tr>\n",
              "\t<tr><td>       NA</td><td>       NA</td><td>       NA</td><td>       NA</td><td>       NA</td><td>       NA</td><td>       NA</td><td>       NA</td><td>       NA</td><td>NA</td></tr>\n",
              "</tbody>\n",
              "</table>\n"
            ],
            "text/markdown": "\nA tibble: 6 × 10\n\n| ph &lt;dbl&gt; | Hardness &lt;dbl&gt; | Solids &lt;dbl&gt; | Chloramines &lt;dbl&gt; | Sulfate &lt;dbl&gt; | Conductivity &lt;dbl&gt; | Organic_carbon &lt;dbl&gt; | Trihalomethanes &lt;dbl&gt; | Turbidity &lt;dbl&gt; | Potability &lt;dbl&gt; |\n|---|---|---|---|---|---|---|---|---|---|\n| 0.5956741 | 0.4648838 | 0.2020960 | 0.5185373 | 0.5797039 | 0.4736374 | 0.5873119 | 0.8203128 | 0.5074109 |  0 |\n|        NA |        NA |        NA |        NA |        NA |        NA |        NA |        NA |        NA | NA |\n| 0.4685448 | 0.3797107 | 0.3661872 | 0.5799693 | 0.7343645 | 0.3713096 | 0.3029679 | 0.4425425 | 0.4186922 |  0 |\n| 0.4483068 | 0.4988177 | 0.4651826 | 0.4827738 | 0.5859086 | 0.5052749 | 0.3447695 | 0.5345077 | 0.5469388 |  0 |\n| 0.3639833 | 0.8196700 | 0.4266615 | 0.7724308 | 0.7135785 | 0.5812515 | 0.6158015 | 0.4923430 | 0.5487225 |  0 |\n|        NA |        NA |        NA |        NA |        NA |        NA |        NA |        NA |        NA | NA |\n\n",
            "text/latex": "A tibble: 6 × 10\n\\begin{tabular}{llllllllll}\n ph & Hardness & Solids & Chloramines & Sulfate & Conductivity & Organic\\_carbon & Trihalomethanes & Turbidity & Potability\\\\\n <dbl> & <dbl> & <dbl> & <dbl> & <dbl> & <dbl> & <dbl> & <dbl> & <dbl> & <dbl>\\\\\n\\hline\n\t 0.5956741 & 0.4648838 & 0.2020960 & 0.5185373 & 0.5797039 & 0.4736374 & 0.5873119 & 0.8203128 & 0.5074109 &  0\\\\\n\t        NA &        NA &        NA &        NA &        NA &        NA &        NA &        NA &        NA & NA\\\\\n\t 0.4685448 & 0.3797107 & 0.3661872 & 0.5799693 & 0.7343645 & 0.3713096 & 0.3029679 & 0.4425425 & 0.4186922 &  0\\\\\n\t 0.4483068 & 0.4988177 & 0.4651826 & 0.4827738 & 0.5859086 & 0.5052749 & 0.3447695 & 0.5345077 & 0.5469388 &  0\\\\\n\t 0.3639833 & 0.8196700 & 0.4266615 & 0.7724308 & 0.7135785 & 0.5812515 & 0.6158015 & 0.4923430 & 0.5487225 &  0\\\\\n\t        NA &        NA &        NA &        NA &        NA &        NA &        NA &        NA &        NA & NA\\\\\n\\end{tabular}\n",
            "text/plain": [
              "  ph        Hardness  Solids    Chloramines Sulfate   Conductivity\n",
              "1 0.5956741 0.4648838 0.2020960 0.5185373   0.5797039 0.4736374   \n",
              "2        NA        NA        NA        NA          NA        NA   \n",
              "3 0.4685448 0.3797107 0.3661872 0.5799693   0.7343645 0.3713096   \n",
              "4 0.4483068 0.4988177 0.4651826 0.4827738   0.5859086 0.5052749   \n",
              "5 0.3639833 0.8196700 0.4266615 0.7724308   0.7135785 0.5812515   \n",
              "6        NA        NA        NA        NA          NA        NA   \n",
              "  Organic_carbon Trihalomethanes Turbidity Potability\n",
              "1 0.5873119      0.8203128       0.5074109  0        \n",
              "2        NA             NA              NA NA        \n",
              "3 0.3029679      0.4425425       0.4186922  0        \n",
              "4 0.3447695      0.5345077       0.5469388  0        \n",
              "5 0.6158015      0.4923430       0.5487225  0        \n",
              "6        NA             NA              NA NA        "
            ]
          },
          "metadata": {}
        },
        {
          "output_type": "stream",
          "name": "stdout",
          "text": [
            "tibble [1,966 × 10] (S3: tbl_df/tbl/data.frame)\n",
            " $ ph             : num [1:1966] 0.596 NA 0.469 0.448 0.364 ...\n",
            " $ Hardness       : num [1:1966] 0.465 NA 0.38 0.499 0.82 ...\n",
            " $ Solids         : num [1:1966] 0.202 NA 0.366 0.465 0.427 ...\n",
            " $ Chloramines    : num [1:1966] 0.519 NA 0.58 0.483 0.772 ...\n",
            " $ Sulfate        : num [1:1966] 0.58 NA 0.734 0.586 0.714 ...\n",
            " $ Conductivity   : num [1:1966] 0.474 NA 0.371 0.505 0.581 ...\n",
            " $ Organic_carbon : num [1:1966] 0.587 NA 0.303 0.345 0.616 ...\n",
            " $ Trihalomethanes: num [1:1966] 0.82 NA 0.443 0.535 0.492 ...\n",
            " $ Turbidity      : num [1:1966] 0.507 NA 0.419 0.547 0.549 ...\n",
            " $ Potability     : num [1:1966] 0 NA 0 0 0 NA 0 0 NA NA ...\n"
          ]
        }
      ]
    },
    {
      "cell_type": "markdown",
      "source": [
        "Hay datos faltantes"
      ],
      "metadata": {
        "id": "j_DSayB1_AMP"
      }
    },
    {
      "cell_type": "code",
      "source": [
        "# Imputar valores faltantes en train_data con la mediana\n",
        "for (col in names(train_data)) {\n",
        "  train_data[[col]][is.na(train_data[[col]])] <- median(train_data[[col]], na.rm = TRUE)\n",
        "}\n",
        "\n",
        "# Repetir para test_data\n",
        "for (col in names(test_data)) {\n",
        "  test_data[[col]][is.na(test_data[[col]])] <- median(test_data[[col]], na.rm = TRUE)\n",
        "}\n",
        "\n",
        "# Verificar que ya no haya valores faltantes\n",
        "colSums(is.na(train_data))\n",
        "colSums(is.na(test_data))\n"
      ],
      "metadata": {
        "colab": {
          "base_uri": "https://localhost:8080/",
          "height": 52
        },
        "id": "o4Z4DcXT_CAv",
        "outputId": "452b79c3-d41f-4268-f7bd-2e94cdc083bd"
      },
      "execution_count": null,
      "outputs": [
        {
          "output_type": "display_data",
          "data": {
            "text/html": [
              "<style>\n",
              ".dl-inline {width: auto; margin:0; padding: 0}\n",
              ".dl-inline>dt, .dl-inline>dd {float: none; width: auto; display: inline-block}\n",
              ".dl-inline>dt::after {content: \":\\0020\"; padding-right: .5ex}\n",
              ".dl-inline>dt:not(:first-of-type) {padding-left: .5ex}\n",
              "</style><dl class=dl-inline><dt>ph</dt><dd>0</dd><dt>Hardness</dt><dd>0</dd><dt>Solids</dt><dd>0</dd><dt>Chloramines</dt><dd>0</dd><dt>Sulfate</dt><dd>0</dd><dt>Conductivity</dt><dd>0</dd><dt>Organic_carbon</dt><dd>0</dd><dt>Trihalomethanes</dt><dd>0</dd><dt>Turbidity</dt><dd>0</dd><dt>Potability</dt><dd>0</dd></dl>\n"
            ],
            "text/markdown": "ph\n:   0Hardness\n:   0Solids\n:   0Chloramines\n:   0Sulfate\n:   0Conductivity\n:   0Organic_carbon\n:   0Trihalomethanes\n:   0Turbidity\n:   0Potability\n:   0\n\n",
            "text/latex": "\\begin{description*}\n\\item[ph] 0\n\\item[Hardness] 0\n\\item[Solids] 0\n\\item[Chloramines] 0\n\\item[Sulfate] 0\n\\item[Conductivity] 0\n\\item[Organic\\textbackslash{}\\_carbon] 0\n\\item[Trihalomethanes] 0\n\\item[Turbidity] 0\n\\item[Potability] 0\n\\end{description*}\n",
            "text/plain": [
              "             ph        Hardness          Solids     Chloramines         Sulfate \n",
              "              0               0               0               0               0 \n",
              "   Conductivity  Organic_carbon Trihalomethanes       Turbidity      Potability \n",
              "              0               0               0               0               0 "
            ]
          },
          "metadata": {}
        },
        {
          "output_type": "display_data",
          "data": {
            "text/html": [
              "<style>\n",
              ".dl-inline {width: auto; margin:0; padding: 0}\n",
              ".dl-inline>dt, .dl-inline>dd {float: none; width: auto; display: inline-block}\n",
              ".dl-inline>dt::after {content: \":\\0020\"; padding-right: .5ex}\n",
              ".dl-inline>dt:not(:first-of-type) {padding-left: .5ex}\n",
              "</style><dl class=dl-inline><dt>ph</dt><dd>0</dd><dt>Hardness</dt><dd>0</dd><dt>Solids</dt><dd>0</dd><dt>Chloramines</dt><dd>0</dd><dt>Sulfate</dt><dd>0</dd><dt>Conductivity</dt><dd>0</dd><dt>Organic_carbon</dt><dd>0</dd><dt>Trihalomethanes</dt><dd>0</dd><dt>Turbidity</dt><dd>0</dd><dt>Potability</dt><dd>0</dd></dl>\n"
            ],
            "text/markdown": "ph\n:   0Hardness\n:   0Solids\n:   0Chloramines\n:   0Sulfate\n:   0Conductivity\n:   0Organic_carbon\n:   0Trihalomethanes\n:   0Turbidity\n:   0Potability\n:   0\n\n",
            "text/latex": "\\begin{description*}\n\\item[ph] 0\n\\item[Hardness] 0\n\\item[Solids] 0\n\\item[Chloramines] 0\n\\item[Sulfate] 0\n\\item[Conductivity] 0\n\\item[Organic\\textbackslash{}\\_carbon] 0\n\\item[Trihalomethanes] 0\n\\item[Turbidity] 0\n\\item[Potability] 0\n\\end{description*}\n",
            "text/plain": [
              "             ph        Hardness          Solids     Chloramines         Sulfate \n",
              "              0               0               0               0               0 \n",
              "   Conductivity  Organic_carbon Trihalomethanes       Turbidity      Potability \n",
              "              0               0               0               0               0 "
            ]
          },
          "metadata": {}
        }
      ]
    },
    {
      "cell_type": "markdown",
      "source": [
        "Entrenar el modelo Random Forest"
      ],
      "metadata": {
        "id": "zSj9FFsDCWDB"
      }
    },
    {
      "cell_type": "code",
      "source": [
        "# Entrenar el modelo Random Forest\n",
        "set.seed(123)\n",
        "rf_model <- randomForest(Potability ~ ., data = train_data, ntree = 100, importance = TRUE)\n",
        "\n",
        "# Verificar el modelo\n",
        "print(rf_model)\n"
      ],
      "metadata": {
        "colab": {
          "base_uri": "https://localhost:8080/"
        },
        "id": "plQcCpAF_HMv",
        "outputId": "5ea30490-4b56-426f-ca0f-f716b1da9b30"
      },
      "execution_count": null,
      "outputs": [
        {
          "output_type": "stream",
          "name": "stderr",
          "text": [
            "Warning message in randomForest.default(m, y, ...):\n",
            "“The response has five or fewer unique values.  Are you sure you want to do regression?”\n"
          ]
        },
        {
          "output_type": "stream",
          "name": "stdout",
          "text": [
            "\n",
            "Call:\n",
            " randomForest(formula = Potability ~ ., data = train_data, ntree = 100,      importance = TRUE) \n",
            "               Type of random forest: regression\n",
            "                     Number of trees: 100\n",
            "No. of variables tried at each split: 3\n",
            "\n",
            "          Mean of squared residuals: 0.1884459\n",
            "                    % Var explained: 12.87\n"
          ]
        }
      ]
    },
    {
      "cell_type": "markdown",
      "source": [
        "Elaboración d ematriz de confusión y precisión"
      ],
      "metadata": {
        "id": "K_NfOYHsCoUe"
      }
    },
    {
      "cell_type": "code",
      "source": [
        "# Convertir Potability a factor en los conjuntos de datos\n",
        "train_data$Potability <- as.factor(train_data$Potability)\n",
        "test_data$Potability <- as.factor(test_data$Potability)\n",
        "\n",
        "# Entrenar el modelo nuevamente\n",
        "set.seed(123)\n",
        "rf_model <- randomForest(Potability ~ ., data = train_data, ntree = 100, importance = TRUE)\n",
        "\n",
        "# Verificar el modelo\n",
        "print(rf_model)\n"
      ],
      "metadata": {
        "colab": {
          "base_uri": "https://localhost:8080/"
        },
        "id": "9ydRWxpE_U-n",
        "outputId": "a44925c3-634f-4928-c532-5efe01c2880e"
      },
      "execution_count": null,
      "outputs": [
        {
          "output_type": "stream",
          "name": "stdout",
          "text": [
            "\n",
            "Call:\n",
            " randomForest(formula = Potability ~ ., data = train_data, ntree = 100,      importance = TRUE) \n",
            "               Type of random forest: classification\n",
            "                     Number of trees: 100\n",
            "No. of variables tried at each split: 3\n",
            "\n",
            "        OOB estimate of  error rate: 30.82%\n",
            "Confusion matrix:\n",
            "     0   1 class.error\n",
            "0 1168 176   0.1309524\n",
            "1  430 192   0.6913183\n"
          ]
        }
      ]
    },
    {
      "cell_type": "markdown",
      "source": [
        "Predicción"
      ],
      "metadata": {
        "id": "z46Txtk4C3yt"
      }
    },
    {
      "cell_type": "code",
      "source": [
        "# Predecir con el modelo en los datos de prueba\n",
        "predictions <- predict(rf_model, test_data)\n",
        "\n",
        "# Crear matriz de confusión\n",
        "conf_matrix <- table(test_data$Potability, predictions)\n",
        "print(conf_matrix)\n",
        "\n",
        "# Calcular la precisión del modelo\n",
        "accuracy <- sum(diag(conf_matrix)) / sum(conf_matrix)\n",
        "cat(\"Precisión del modelo:\", round(accuracy, 2), \"\\n\")\n"
      ],
      "metadata": {
        "colab": {
          "base_uri": "https://localhost:8080/"
        },
        "id": "6g7yacXL_ZSu",
        "outputId": "97510e98-f65d-4004-c110-3c4a6826e7fc"
      },
      "execution_count": null,
      "outputs": [
        {
          "output_type": "stream",
          "name": "stdout",
          "text": [
            "   predictions\n",
            "      0   1\n",
            "  0 548  46\n",
            "  1 177  72\n",
            "Precisión del modelo: 0.74 \n"
          ]
        }
      ]
    },
    {
      "cell_type": "markdown",
      "source": [
        "**Código para KNN**"
      ],
      "metadata": {
        "id": "c1x2TbT1_-65"
      }
    },
    {
      "cell_type": "code",
      "source": [
        "# Instalar y cargar librería necesaria\n",
        "if (!require(class)) install.packages(\"class\")\n",
        "library(class)\n",
        "\n",
        "# Preparar las variables predictoras y objetivo\n",
        "train_predictors <- train_data[, -which(names(train_data) == \"Potability\")]\n",
        "train_target <- train_data$Potability\n",
        "\n",
        "test_predictors <- test_data[, -which(names(test_data) == \"Potability\")]\n",
        "test_target <- test_data$Potability\n",
        "\n",
        "# Entrenar y predecir con KNN (k = 5 por defecto, ajustable)\n",
        "set.seed(123)\n",
        "knn_predictions <- knn(train = train_predictors, test = test_predictors, cl = train_target, k = 5)\n",
        "\n",
        "# Evaluar el modelo\n",
        "knn_conf_matrix <- table(test_target, knn_predictions)\n",
        "print(knn_conf_matrix)\n",
        "\n",
        "# Calcular precisión\n",
        "knn_accuracy <- sum(diag(knn_conf_matrix)) / sum(knn_conf_matrix)\n",
        "cat(\"Precisión del modelo KNN:\", round(knn_accuracy, 2), \"\\n\")\n"
      ],
      "metadata": {
        "colab": {
          "base_uri": "https://localhost:8080/"
        },
        "id": "djJZWVb1ACDO",
        "outputId": "6ed91537-c6e4-4993-a887-70860ada2f7d"
      },
      "execution_count": null,
      "outputs": [
        {
          "output_type": "stream",
          "name": "stderr",
          "text": [
            "Loading required package: class\n",
            "\n"
          ]
        },
        {
          "output_type": "stream",
          "name": "stdout",
          "text": [
            "           knn_predictions\n",
            "test_target   0   1\n",
            "          0 490 104\n",
            "          1 170  79\n",
            "Precisión del modelo KNN: 0.67 \n"
          ]
        }
      ]
    },
    {
      "cell_type": "code",
      "source": [
        "# Instalar y cargar librería necesaria\n",
        "if (!require(rpart)) install.packages(\"rpart\")\n",
        "library(rpart)\n",
        "\n",
        "# Entrenar el modelo de Árbol de Decisión\n",
        "set.seed(123)\n",
        "tree_model <- rpart(Potability ~ ., data = train_data, method = \"class\")\n",
        "\n",
        "# Visualizar el árbol de decisión\n",
        "print(tree_model)\n",
        "\n",
        "# Evaluar el modelo\n",
        "tree_predictions <- predict(tree_model, test_data, type = \"class\")\n",
        "tree_conf_matrix <- table(test_data$Potability, tree_predictions)\n",
        "\n",
        "# Mostrar matriz de confusión\n",
        "print(tree_conf_matrix)\n",
        "\n",
        "# Calcular precisión\n",
        "tree_accuracy <- sum(diag(tree_conf_matrix)) / sum(tree_conf_matrix)\n",
        "cat(\"Precisión del modelo Árbol de Decisión:\", round(tree_accuracy, 2), \"\\n\")\n"
      ],
      "metadata": {
        "colab": {
          "base_uri": "https://localhost:8080/"
        },
        "id": "usZk6Z5bAXF1",
        "outputId": "1f5e3aa3-8593-4852-b0fb-26f4a52787d2"
      },
      "execution_count": null,
      "outputs": [
        {
          "output_type": "stream",
          "name": "stderr",
          "text": [
            "Loading required package: rpart\n",
            "\n"
          ]
        },
        {
          "output_type": "stream",
          "name": "stdout",
          "text": [
            "n= 1966 \n",
            "\n",
            "node), split, n, loss, yval, (yprob)\n",
            "      * denotes terminal node\n",
            "\n",
            "  1) root 1966 622 0 (0.68362157 0.31637843)  \n",
            "    2) Chloramines< 0.5541376 1307 344 0 (0.73680184 0.26319816)  \n",
            "      4) Chloramines>=0.52663 507  49 0 (0.90335306 0.09664694) *\n",
            "      5) Chloramines< 0.52663 800 295 0 (0.63125000 0.36875000)  \n",
            "       10) ph>=0.6083007 144  26 0 (0.81944444 0.18055556) *\n",
            "       11) ph< 0.6083007 656 269 0 (0.58993902 0.41006098)  \n",
            "         22) Hardness< 0.5957394 476 176 0 (0.63025210 0.36974790)  \n",
            "           44) Solids< 0.52794 417 140 0 (0.66426859 0.33573141) *\n",
            "           45) Solids>=0.52794 59  23 1 (0.38983051 0.61016949) *\n",
            "         23) Hardness>=0.5957394 180  87 1 (0.48333333 0.51666667)  \n",
            "           46) Sulfate< 0.6263678 139  60 0 (0.56834532 0.43165468)  \n",
            "             92) Hardness>=0.6185547 108  39 0 (0.63888889 0.36111111) *\n",
            "             93) Hardness< 0.6185547 31  10 1 (0.32258065 0.67741935) *\n",
            "           47) Sulfate>=0.6263678 41   8 1 (0.19512195 0.80487805) *\n",
            "    3) Chloramines>=0.5541376 659 278 0 (0.57814871 0.42185129)  \n",
            "      6) ph< 0.4474025 204  58 0 (0.71568627 0.28431373) *\n",
            "      7) ph>=0.4474025 455 220 0 (0.51648352 0.48351648)  \n",
            "       14) Sulfate>=0.552657 315 134 0 (0.57460317 0.42539683)  \n",
            "         28) Sulfate< 0.7363777 304 125 0 (0.58881579 0.41118421)  \n",
            "           56) Conductivity>=0.3177605 233  86 0 (0.63090129 0.36909871) *\n",
            "           57) Conductivity< 0.3177605 71  32 1 (0.45070423 0.54929577)  \n",
            "            114) ph< 0.548963 39  15 0 (0.61538462 0.38461538) *\n",
            "            115) ph>=0.548963 32   8 1 (0.25000000 0.75000000) *\n",
            "         29) Sulfate>=0.7363777 11   2 1 (0.18181818 0.81818182) *\n",
            "       15) Sulfate< 0.552657 140  54 1 (0.38571429 0.61428571)  \n",
            "         30) Hardness>=0.5953448 53  23 0 (0.56603774 0.43396226)  \n",
            "           60) ph< 0.6479764 44  15 0 (0.65909091 0.34090909) *\n",
            "           61) ph>=0.6479764 9   1 1 (0.11111111 0.88888889) *\n",
            "         31) Hardness< 0.5953448 87  24 1 (0.27586207 0.72413793) *\n",
            "   tree_predictions\n",
            "      0   1\n",
            "  0 538  56\n",
            "  1 204  45\n",
            "Precisión del modelo Árbol de Decisión: 0.69 \n"
          ]
        }
      ]
    },
    {
      "cell_type": "markdown",
      "source": [
        "Modleo Naive Bayes"
      ],
      "metadata": {
        "id": "twUmdaADAkd9"
      }
    },
    {
      "cell_type": "code",
      "source": [
        "# Instalar y cargar la librería necesaria\n",
        "if (!require(e1071)) install.packages(\"e1071\")\n",
        "library(e1071)\n",
        "\n",
        "# Entrenar el modelo Naive Bayes\n",
        "set.seed(123)\n",
        "nb_model <- naiveBayes(Potability ~ ., data = train_data)\n",
        "\n",
        "# Evaluar el modelo\n",
        "nb_predictions <- predict(nb_model, test_data)\n",
        "nb_conf_matrix <- table(test_data$Potability, nb_predictions)\n",
        "\n",
        "# Mostrar matriz de confusión\n",
        "print(nb_conf_matrix)\n",
        "\n",
        "# Calcular precisión\n",
        "nb_accuracy <- sum(diag(nb_conf_matrix)) / sum(nb_conf_matrix)\n",
        "cat(\"Precisión del modelo Naive Bayes:\", round(nb_accuracy, 2), \"\\n\")\n"
      ],
      "metadata": {
        "colab": {
          "base_uri": "https://localhost:8080/"
        },
        "id": "pDFxDJOAAnrP",
        "outputId": "b73251d3-f159-4141-8b8e-cbd50985fd2a"
      },
      "execution_count": null,
      "outputs": [
        {
          "output_type": "stream",
          "name": "stderr",
          "text": [
            "Loading required package: e1071\n",
            "\n",
            "Warning message in library(package, lib.loc = lib.loc, character.only = TRUE, logical.return = TRUE, :\n",
            "“there is no package called ‘e1071’”\n",
            "Installing package into ‘/usr/local/lib/R/site-library’\n",
            "(as ‘lib’ is unspecified)\n",
            "\n",
            "also installing the dependency ‘proxy’\n",
            "\n",
            "\n"
          ]
        },
        {
          "output_type": "stream",
          "name": "stdout",
          "text": [
            "   nb_predictions\n",
            "      0   1\n",
            "  0 489 105\n",
            "  1 188  61\n",
            "Precisión del modelo Naive Bayes: 0.65 \n"
          ]
        }
      ]
    },
    {
      "cell_type": "code",
      "source": [
        "# Crear un dataframe con los resultados\n",
        "resultados <- data.frame(\n",
        "  Metodo = c(\"KNN\", \"Árbol de decisión\", \"Naive Bayes\", \"Random Forest\"),\n",
        "  Precision = c(67, 69, 65, 74)\n",
        ")\n",
        "\n",
        "# Mostrar la tabla en formato ordenado\n",
        "print(resultados)\n",
        "\n",
        "# Si deseas un formato más visual, puedes usar knitr::kable (opcional)\n",
        "if (!require(knitr)) install.packages(\"knitr\")\n",
        "library(knitr)\n",
        "\n",
        "kable(resultados, col.names = c(\"Método de Clasificación\", \"% de Buena Clasificación\"),\n",
        "      caption = \"Resultados de los Modelos Evaluados\")\n"
      ],
      "metadata": {
        "colab": {
          "base_uri": "https://localhost:8080/",
          "height": 312
        },
        "id": "Ty0qTZkTBBLM",
        "outputId": "4a4bae38-d1fd-4f95-a935-7d5b99a99528"
      },
      "execution_count": null,
      "outputs": [
        {
          "output_type": "stream",
          "name": "stdout",
          "text": [
            "             Metodo Precision\n",
            "1               KNN        67\n",
            "2 Árbol de decisión        69\n",
            "3       Naive Bayes        65\n",
            "4     Random Forest        74\n"
          ]
        },
        {
          "output_type": "stream",
          "name": "stderr",
          "text": [
            "Loading required package: knitr\n",
            "\n"
          ]
        },
        {
          "output_type": "display_data",
          "data": {
            "text/plain": [
              "\n",
              "\n",
              "Table: Resultados de los Modelos Evaluados\n",
              "\n",
              "|Método de Clasificación | % de Buena Clasificación|\n",
              "|:-----------------------|------------------------:|\n",
              "|KNN                     |                       67|\n",
              "|Árbol de decisión       |                       69|\n",
              "|Naive Bayes             |                       65|\n",
              "|Random Forest           |                       74|"
            ]
          },
          "metadata": {}
        }
      ]
    },
    {
      "cell_type": "code",
      "source": [
        "# Instalar y cargar ggplot2\n",
        "if (!require(ggplot2)) install.packages(\"ggplot2\")\n",
        "library(ggplot2)\n",
        "\n",
        "# Crear un dataframe con los resultados\n",
        "resultados <- data.frame(\n",
        "  Metodo = c(\"KNN\", \"Árbol de Decisión\", \"Naive Bayes\", \"Random Forest\"),\n",
        "  Precision = c(67, 69, 65, 74)\n",
        ")\n",
        "\n",
        "# Crear la gráfica de pastel\n",
        "ggplot(resultados, aes(x = \"\", y = Precision, fill = Metodo)) +\n",
        "  geom_bar(stat = \"identity\", width = 1, color = \"white\") +\n",
        "  coord_polar(theta = \"y\") +\n",
        "  theme_void() +\n",
        "  labs(title = \"Comparación de Precisión de Modelos\") +\n",
        "  theme(plot.title = element_text(hjust = 0.5, size = 14))\n"
      ],
      "metadata": {
        "colab": {
          "base_uri": "https://localhost:8080/",
          "height": 437
        },
        "id": "yjTqxXtkBoym",
        "outputId": "6b9db31c-aa60-44d9-9fdd-5b148e17fd57"
      },
      "execution_count": null,
      "outputs": [
        {
          "output_type": "display_data",
          "data": {
            "text/plain": [
              "plot without title"
            ],
            "image/png": "[encoded data removed]"
          },
          "metadata": {
            "image/png": {
              "width": 420,
              "height": 420
            }
          }
        }
      ]
    },
    {
      "cell_type": "markdown",
      "source": [
        "En este análisis, se evaluaron cuatro modelos de clasificación: KNN, Árbol de Decisión, Naive Bayes y Random Forest, para determinar su capacidad de predecir la potabilidad del agua. Los modelos fueron entrenados y evaluados utilizando un conjunto de datos normalizado, dividiendo los datos en conjuntos de entrenamiento y prueba (70%-30%).\n",
        "El modelo Random Forest obtuvo la mejor precisión (74%), destacándose por su robustez y capacidad para manejar variables interrelacionadas y datos ruidosos. Este resultado lo convierte en la mejor opción para este problema.\n",
        "El Árbol de Decisión alcanzó un 69% de precisión, siendo una alternativa interpretativa que permite identificar reglas claras para la clasificación, aunque menos precisa que Random Forest.\n",
        "\n",
        "El KNN (67%) mostró un desempeño moderado, pero su precisión es sensible a la elección de k y la presencia de valores atípicos, lo que puede limitar su aplicabilidad en problemas complejos. Finalmente, el Naive Bayes tuvo el desempeño más bajo (65%), probablemente debido a su fuerte dependencia de la independencia de las variables predictoras, una condición que no se cumple completamente en este conjunto de datos.\n",
        "\n",
        "En resumen, Random Forest es el modelo más adecuado para este problema debido a su equilibrio entre precisión y robustez. Sin embargo, dependiendo del contexto, modelos como Árbol de Decisión podrían preferirse por su interpretabilidad."
      ],
      "metadata": {
        "id": "muRYoHlSKRF7"
      }
    }
  ]
}